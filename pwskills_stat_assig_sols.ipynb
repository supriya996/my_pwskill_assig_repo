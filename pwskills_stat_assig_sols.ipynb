{
  "nbformat": 4,
  "nbformat_minor": 0,
  "metadata": {
    "colab": {
      "provenance": []
    },
    "kernelspec": {
      "name": "python3",
      "display_name": "Python 3"
    },
    "language_info": {
      "name": "python"
    }
  },
  "cells": [
    {
      "cell_type": "markdown",
      "source": [],
      "metadata": {
        "id": "faF799DBFrDx"
      }
    },
    {
      "cell_type": "code",
      "source": [],
      "metadata": {
        "id": "lj4tH6bmVjDQ"
      },
      "execution_count": null,
      "outputs": []
    },
    {
      "cell_type": "markdown",
      "source": [],
      "metadata": {
        "id": "suxoVaoFJbxT"
      }
    },
    {
      "cell_type": "code",
      "source": [],
      "metadata": {
        "id": "DtLdA6aiGqAv"
      },
      "execution_count": null,
      "outputs": []
    },
    {
      "cell_type": "markdown",
      "source": [
        "# Q1. What is Statistics?\n",
        "\n",
        "ANSWER:\n",
        "Statistics is the branch of mathematics concerned with the collection, analysis, interpretation, presentation, and organization of data. This discipline provides tools and methodologies to make informed decisions based on data.\n",
        "\n",
        "---\n",
        "# Q2. Define the different types of statistics and give an example of when each type might be used.\n",
        "\n",
        "ANSWER:\n",
        "Statistics may be broadly classified into two categories:\n",
        "\n",
        "Descriptive Statistics: Used to summarize and describe the main features of a dataset.\n",
        "Example: Calculating the average marks of students in a class.\n",
        "Inferential Statistics: Those statistics are applied to predict or infer from a sample to the whole population.\n",
        "Example: Election prediction based on sample voter survey\n",
        "\n",
        "---\n",
        "# Q3. What are the types of data, and what are their differences? Provide examples of each of the types of data.\n",
        "\n",
        "ANSWER:\n",
        "\n",
        "Qualitative Data (Categorical): Not numerical and denote categories or characteristics.\n",
        "\n",
        "Example: Colours of cars (red, blue, green).\n",
        "\n",
        "Quantitative Data (Numerical): Numeric and represent measurable quantities.\n",
        "\n",
        "Example: Students in a class age (12, 13, 14 years).\n",
        "\n",
        "---\n",
        "# Q4. Classify the following data sets with respect to types of quantitative and qualitative data.\n",
        "(i) Grading in examination: A+, A, B+, B, C+, C, D, E\n",
        "Qualitative (Ordinal)\n",
        "\n",
        "(ii) Color of mangoes: yellow, green, orange, red\n",
        "Qualitative (Nominal)\n",
        "\n",
        "(iii) Height data of a class: [178.9, 179, 179.5, 176, 177.2, 178.3, 175.8,.]\n",
        "Quantitative (Continuous)\n",
        "\n",
        "(iv) Number of mangoes exported by a farm: [500, 600, 478, 672,.]\n",
        "Quantitative (Discrete)\n",
        "\n",
        "---\n",
        "# Q5. Describe the concept of levels of measurement and provide an example of a variable for each level.\n",
        "ANSWER:\n",
        "Levels of measurement categorize variables based on their nature:\n",
        "\n",
        "Nominal: Categories that do not have a natural order.\n",
        "Example: Gender (Male, Female).\n",
        "Ordinal: Categories that have a natural order.\n",
        "Example: Satisfaction level (Satisfied, Neutral, Dissatisfied).\n",
        "Interval: Numeric data that have equal intervals but no true zero.\n",
        "Example: Temperature in Celsius.\n",
        "Ratio: Numerical, with a true zero.\n",
        "Example: Weight (kg).\n",
        "\n",
        "---\n",
        "# Q6. Explain why it is crucial to know the level of measurement involved in analyzing data? State an example.\n",
        "ANSWER :\n",
        "Knowing the level of measurement helps decide what type of statistical tools and visualization shall be used.\n",
        "\n",
        "Example: For nominal data like colors, you will use a bar chart. In case of ratio data like income, you can compute the mean or histograms.\n",
        "\n",
        "---\n",
        "# Q7. How does the nominal data type differ from the ordinal data type?\n",
        "ANSWER:\n",
        "\n",
        "Nominal Data: It represents categories without any specific order, such as colors: red, blue, green.\n",
        "Ordinal Data: It represents categories with a meaningful order, such as rankings: 1st, 2nd, 3rd.\n",
        "\n",
        "---\n",
        "# Q8. What is the kind of plot that can be used to present data in terms of range?\n",
        "ANSWER:\n",
        "A box plot, also known as a box-and-whisker plot, is used to present data in terms of range, including minimum, maximum, quartiles, and median.\n",
        "\n",
        "---\n",
        "# Q9. What is the difference between descriptive and inferential statistics? Provide an example of each type of statistics and describe how they are used.\n",
        "ANSWER:\n",
        "\n",
        "Descriptive Statistics: Summarizes and describes data.\n",
        "Example: Determining an average student height in class.\n",
        "Application: Gives overview of data trends.\n",
        "Descriptive Statistics: Makes prediction or inference about a population\n",
        "Example: Estimating all students average height in a given country.\n",
        "Application: Determines conclusion about the population more than data in sample\n",
        "\n",
        "---\n",
        "# Q10. What are the most popular measures of central tendency and variability?\n",
        "Explain the application of each measure as a descriptive tool for your dataset\n",
        "ANSWER\n",
        "\n",
        "Measures of Central Tendency:\n",
        "\n",
        "Mean: Average of all data points. Useful for symmetric data.\n",
        "Median: Middle value in ordered data. Useful for skewed data.\n",
        "Mode: Most frequently occurring value. Useful for categorical data.\n",
        "Measures of Variability:\n",
        "\n",
        "Range: Difference between maximum and minimum values. Shows data spread.\n",
        "Variance: Average squared deviation from the mean. Indicates data dispersion.\n",
        "Standard Deviation: Square root of variance. Reflects data consistency.\n"
      ],
      "metadata": {
        "id": "Wz_aFhizJcTy"
      }
    },
    {
      "cell_type": "code",
      "source": [],
      "metadata": {
        "id": "hjHsOSfzKg69"
      },
      "execution_count": null,
      "outputs": []
    }
  ]
}